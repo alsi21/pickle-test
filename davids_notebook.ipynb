{
 "cells": [
  {
   "cell_type": "code",
   "execution_count": 9,
   "metadata": {},
   "outputs": [],
   "source": [
    "import pickle\n",
    "import numpy as np"
   ]
  },
  {
   "cell_type": "code",
   "execution_count": 3,
   "metadata": {},
   "outputs": [
    {
     "data": {
      "text/plain": [
       "True"
      ]
     },
     "execution_count": 3,
     "metadata": {},
     "output_type": "execute_result"
    }
   ],
   "source": [
    "f = np.sqrt(2)\n",
    "h = pickle.dumps(f)\n",
    "f2 = pickle.loads(h)\n",
    "f == f2"
   ]
  },
  {
   "cell_type": "code",
   "execution_count": 8,
   "metadata": {},
   "outputs": [
    {
     "name": "stdout",
     "output_type": "stream",
     "text": [
      "-3777596865055886883\n",
      "-3777596865055886883\n"
     ]
    }
   ],
   "source": [
    "class B():\n",
    "    def __init__(self, depth) -> None:\n",
    "        self.depth = depth\n",
    "        if depth > 0:\n",
    "            self.b = B(depth-1)\n",
    "\n",
    "b = B(10)\n",
    "c = B(10)\n",
    "\n",
    "print(hash(pickle.dumps(pickle.loads(pickle.dumps(b)))))\n",
    "print(hash(pickle.dumps(b)))"
   ]
  },
  {
   "cell_type": "code",
   "execution_count": null,
   "metadata": {},
   "outputs": [],
   "source": []
  }
 ],
 "metadata": {
  "kernelspec": {
   "display_name": "Python 3",
   "language": "python",
   "name": "python3"
  },
  "language_info": {
   "codemirror_mode": {
    "name": "ipython",
    "version": 3
   },
   "file_extension": ".py",
   "mimetype": "text/x-python",
   "name": "python",
   "nbconvert_exporter": "python",
   "pygments_lexer": "ipython3",
   "version": "3.10.12"
  }
 },
 "nbformat": 4,
 "nbformat_minor": 2
}
